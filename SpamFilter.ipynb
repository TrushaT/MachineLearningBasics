{
  "nbformat": 4,
  "nbformat_minor": 0,
  "metadata": {
    "colab": {
      "name": "SpamFilter.ipynb",
      "provenance": [],
      "collapsed_sections": [],
      "authorship_tag": "ABX9TyOGHi42gIL6P4yN5e6ZLz6H",
      "include_colab_link": true
    },
    "kernelspec": {
      "name": "python3",
      "display_name": "Python 3"
    }
  },
  "cells": [
    {
      "cell_type": "markdown",
      "metadata": {
        "id": "view-in-github",
        "colab_type": "text"
      },
      "source": [
        "<a href=\"https://colab.research.google.com/github/TrushaT/MachineLearningBasics/blob/master/SpamFilter.ipynb\" target=\"_parent\"><img src=\"https://colab.research.google.com/assets/colab-badge.svg\" alt=\"Open In Colab\"/></a>"
      ]
    },
    {
      "cell_type": "code",
      "metadata": {
        "id": "-dCQfOmYHfGD",
        "colab_type": "code",
        "outputId": "2b0c55ac-c56f-4e07-f9de-ed6437ad69b7",
        "colab": {
          "base_uri": "https://localhost:8080/",
          "height": 306
        }
      },
      "source": [
        "!pip install textblob\n",
        "!python -m textblob.download_corpora\n",
        "\n",
        "from textblob.classifiers import NaiveBayesClassifier as NBC \n",
        "from textblob import TextBlob"
      ],
      "execution_count": 0,
      "outputs": [
        {
          "output_type": "stream",
          "text": [
            "Requirement already satisfied: textblob in /usr/local/lib/python3.6/dist-packages (0.15.3)\n",
            "Requirement already satisfied: nltk>=3.1 in /usr/local/lib/python3.6/dist-packages (from textblob) (3.2.5)\n",
            "Requirement already satisfied: six in /usr/local/lib/python3.6/dist-packages (from nltk>=3.1->textblob) (1.12.0)\n",
            "[nltk_data] Downloading package brown to /root/nltk_data...\n",
            "[nltk_data]   Unzipping corpora/brown.zip.\n",
            "[nltk_data] Downloading package punkt to /root/nltk_data...\n",
            "[nltk_data]   Unzipping tokenizers/punkt.zip.\n",
            "[nltk_data] Downloading package wordnet to /root/nltk_data...\n",
            "[nltk_data]   Unzipping corpora/wordnet.zip.\n",
            "[nltk_data] Downloading package averaged_perceptron_tagger to\n",
            "[nltk_data]     /root/nltk_data...\n",
            "[nltk_data]   Unzipping taggers/averaged_perceptron_tagger.zip.\n",
            "[nltk_data] Downloading package conll2000 to /root/nltk_data...\n",
            "[nltk_data]   Unzipping corpora/conll2000.zip.\n",
            "[nltk_data] Downloading package movie_reviews to /root/nltk_data...\n",
            "[nltk_data]   Unzipping corpora/movie_reviews.zip.\n",
            "Finished.\n"
          ],
          "name": "stdout"
        }
      ]
    },
    {
      "cell_type": "code",
      "metadata": {
        "id": "qP82B6y6H1hZ",
        "colab_type": "code",
        "outputId": "a42848a8-9927-4726-964e-29d41e3d3380",
        "colab": {
          "base_uri": "https://localhost:8080/",
          "height": 68
        }
      },
      "source": [
        "training_corpus = [\n",
        "                (\"Call me tonight\",'ham'),\n",
        "                (\"Free Vaigra\",'spam'),\n",
        "                (\"Lets catch up tomorrow\",'ham'),\n",
        "                (\"Pls submit your draft tomorrow\",'ham'),\n",
        "                (\"Free mangoes\",'spam'),\n",
        "                (\"Free membership to gym\",'spam'),\n",
        "                (\"Apply for your internship\",'ham'),\n",
        "                (\"Competition staring from tomorrow\",'ham'),\n",
        "                (\"Free treatment!\",'spam'),\n",
        "                (\"Sale Sale Free learning kit\",'spam')\n",
        "]\n",
        "\n",
        "test_corpus = [\n",
        "            (\"Free tampons\",'spam'),\n",
        "            (\"Free goods\",'spam'),\n",
        "            (\"Free stuff\",'spam'),\n",
        "            (\"Exam schedule\",'ham'),\n",
        "            (\"Apply for hackathon\",'ham'),\n",
        "            (\"We have missed you \",'ham')\n",
        "]\n",
        "\n",
        "model = NBC(training_corpus)\n",
        "print(model.classify(\"Free for you\"))\n",
        "print(model.classify(\"Lets catch up \"))\n",
        "print(model.accuracy(test_corpus))"
      ],
      "execution_count": 0,
      "outputs": [
        {
          "output_type": "stream",
          "text": [
            "spam\n",
            "ham\n",
            "0.6666666666666666\n"
          ],
          "name": "stdout"
        }
      ]
    },
    {
      "cell_type": "code",
      "metadata": {
        "id": "vCMS40KeuqJy",
        "colab_type": "code",
        "colab": {}
      },
      "source": [
        ""
      ],
      "execution_count": 0,
      "outputs": []
    }
  ]
}